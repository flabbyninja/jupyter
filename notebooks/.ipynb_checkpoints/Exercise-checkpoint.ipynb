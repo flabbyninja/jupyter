{
 "cells": [
  {
   "cell_type": "code",
   "execution_count": 3,
   "id": "e7381a1e",
   "metadata": {},
   "outputs": [],
   "source": [
    "# Loading data\n",
    "\n",
    "import numpy as np\n",
    "import pandas as pd\n",
    "import json\n",
    "\n",
    "with open(\"/home/data/exercise/normalised.json\") as datafile:\n",
    "    data = json.load(datafile)\n",
    "exercises = pd.DataFrame(data)\n",
    "\n",
    "# Normalised data loaded\n",
    "\n",
    "exercises.columns = ['date', 'exercise', 'weight']"
   ]
  },
  {
   "cell_type": "code",
   "execution_count": 4,
   "id": "f101f7f9",
   "metadata": {},
   "outputs": [
    {
     "name": "stdout",
     "output_type": "stream",
     "text": [
      "<class 'pandas.core.frame.DataFrame'>\n",
      "RangeIndex: 681 entries, 0 to 680\n",
      "Data columns (total 3 columns):\n",
      " #   Column    Non-Null Count  Dtype \n",
      "---  ------    --------------  ----- \n",
      " 0   date      681 non-null    object\n",
      " 1   exercise  681 non-null    object\n",
      " 2   weight    681 non-null    object\n",
      "dtypes: object(3)\n",
      "memory usage: 16.1+ KB\n"
     ]
    }
   ],
   "source": [
    "exercises.info()"
   ]
  },
  {
   "cell_type": "code",
   "execution_count": 5,
   "id": "9dee7f5a",
   "metadata": {},
   "outputs": [],
   "source": [
    "exercises['date'] = pd.to_datetime(exercises['date'])\n",
    "exercises['exercise'] = exercises['exercise'].astype(str)\n",
    "exercises['weight'] = exercises['weight'].astype(float)"
   ]
  },
  {
   "cell_type": "code",
   "execution_count": 6,
   "id": "e6e0dc92",
   "metadata": {},
   "outputs": [
    {
     "name": "stdout",
     "output_type": "stream",
     "text": [
      "<class 'pandas.core.frame.DataFrame'>\n",
      "RangeIndex: 681 entries, 0 to 680\n",
      "Data columns (total 3 columns):\n",
      " #   Column    Non-Null Count  Dtype         \n",
      "---  ------    --------------  -----         \n",
      " 0   date      681 non-null    datetime64[ns]\n",
      " 1   exercise  681 non-null    object        \n",
      " 2   weight    681 non-null    float64       \n",
      "dtypes: datetime64[ns](1), float64(1), object(1)\n",
      "memory usage: 16.1+ KB\n"
     ]
    }
   ],
   "source": [
    "exercises.info()"
   ]
  },
  {
   "cell_type": "code",
   "execution_count": 7,
   "id": "d8512415",
   "metadata": {},
   "outputs": [
    {
     "data": {
      "text/html": [
       "<div>\n",
       "<style scoped>\n",
       "    .dataframe tbody tr th:only-of-type {\n",
       "        vertical-align: middle;\n",
       "    }\n",
       "\n",
       "    .dataframe tbody tr th {\n",
       "        vertical-align: top;\n",
       "    }\n",
       "\n",
       "    .dataframe thead th {\n",
       "        text-align: right;\n",
       "    }\n",
       "</style>\n",
       "<table border=\"1\" class=\"dataframe\">\n",
       "  <thead>\n",
       "    <tr style=\"text-align: right;\">\n",
       "      <th></th>\n",
       "      <th>date</th>\n",
       "      <th>exercise</th>\n",
       "      <th>weight</th>\n",
       "    </tr>\n",
       "  </thead>\n",
       "  <tbody>\n",
       "  </tbody>\n",
       "</table>\n",
       "</div>"
      ],
      "text/plain": [
       "Empty DataFrame\n",
       "Columns: [date, exercise, weight]\n",
       "Index: []"
      ]
     },
     "execution_count": 7,
     "metadata": {},
     "output_type": "execute_result"
    }
   ],
   "source": [
    "# indices with blank data\n",
    "missing = exercises.index[exercises.isnull().any(axis=1)]\n",
    "# rows at those indices with missing data\n",
    "exercises.loc[missing]"
   ]
  },
  {
   "cell_type": "markdown",
   "id": "4f997bae",
   "metadata": {},
   "source": [
    "# Most popular exercises"
   ]
  },
  {
   "cell_type": "code",
   "execution_count": 8,
   "id": "692e1a47",
   "metadata": {},
   "outputs": [
    {
     "name": "stdout",
     "output_type": "stream",
     "text": [
      "exercise\n",
      "Converging Chest Press       98\n",
      "Triceps Pull                 92\n",
      "Converging Shoulder Press    81\n",
      "Pectoral Fly                 76\n",
      "Leg Extension                70\n",
      "Seated Leg Curl              68\n",
      "Lateral Raise                49\n",
      "Leg press                    48\n",
      "Arm Curl                     45\n",
      "Lat Pull                     31\n",
      "Dual Hand Pull               11\n",
      "Diverging Seated Row          8\n",
      "Mini Ripper                   2\n",
      "Triceps Extension             2\n",
      "Name: date, dtype: int64\n"
     ]
    }
   ],
   "source": [
    "n_by_exercise = exercises.groupby(\"exercise\")[\"date\"].count().sort_values(ascending=False)\n",
    "print(n_by_exercise)"
   ]
  },
  {
   "cell_type": "markdown",
   "id": "15c551c9",
   "metadata": {},
   "source": [
    "# Increase in weight per exercise"
   ]
  },
  {
   "cell_type": "code",
   "execution_count": 9,
   "id": "0bd5afd2",
   "metadata": {},
   "outputs": [],
   "source": [
    "# get max date\n",
    "max_date = exercises.loc[exercises['date'].idxmax()]['date']\n",
    "\n",
    "# get min date\n",
    "min_date = exercises.loc[exercises['date'].idxmin()]['date']\n",
    "\n",
    "# number of months difference\n",
    "month_delta = (max_date.year - min_date.year) * 12 + (max_date.month - min_date.month)"
   ]
  },
  {
   "cell_type": "code",
   "execution_count": 10,
   "id": "76d243ca",
   "metadata": {},
   "outputs": [
    {
     "data": {
      "text/plain": [
       "exercise\n",
       "Leg press                    86.0\n",
       "Pectoral Fly                 86.0\n",
       "Converging Chest Press       61.3\n",
       "Seated Leg Curl              56.6\n",
       "Leg Extension                54.3\n",
       "Lat Pull                     52.0\n",
       "Lateral Raise                50.0\n",
       "Dual Hand Pull               45.0\n",
       "Triceps Extension            45.0\n",
       "Arm Curl                     37.1\n",
       "Diverging Seated Row         36.0\n",
       "Converging Shoulder Press    32.0\n",
       "Mini Ripper                  32.0\n",
       "Triceps Pull                 29.3\n",
       "Name: weight, dtype: float64"
      ]
     },
     "execution_count": 10,
     "metadata": {},
     "output_type": "execute_result"
    }
   ],
   "source": [
    "weight_per_exercise = exercises.groupby(\"exercise\")['weight'].max().sort_values(ascending=False)\n",
    "weight_per_exercise\n",
    "# add new derived column\n",
    "# exercises['weight_per_month'] = exercises['weight'] / month_delta"
   ]
  },
  {
   "cell_type": "markdown",
   "id": "6f0374cf",
   "metadata": {},
   "source": [
    "# Rate of weight increase per exercise"
   ]
  },
  {
   "cell_type": "markdown",
   "id": "cb4bea4b",
   "metadata": {},
   "source": [
    "# Number of times I've exercised"
   ]
  },
  {
   "cell_type": "code",
   "execution_count": 11,
   "id": "89abeaab",
   "metadata": {},
   "outputs": [
    {
     "data": {
      "text/plain": [
       "145"
      ]
     },
     "execution_count": 11,
     "metadata": {},
     "output_type": "execute_result"
    }
   ],
   "source": [
    "exercises.date.nunique()"
   ]
  },
  {
   "cell_type": "markdown",
   "id": "85689ad8",
   "metadata": {},
   "source": [
    "# Average number of weight exercises per session"
   ]
  },
  {
   "cell_type": "code",
   "execution_count": 12,
   "id": "3a95c8d6",
   "metadata": {},
   "outputs": [
    {
     "data": {
      "text/plain": [
       "4.696551724137931"
      ]
     },
     "execution_count": 12,
     "metadata": {},
     "output_type": "execute_result"
    }
   ],
   "source": [
    "exercises.weight.size / exercises.date.nunique()"
   ]
  },
  {
   "cell_type": "markdown",
   "id": "01efc058",
   "metadata": {},
   "source": [
    "# Questions it would be good to answer\n",
    "\n",
    "* increase in weight over time as raw number\n",
    "* increase in weight over time as percentage of starting weight"
   ]
  },
  {
   "cell_type": "code",
   "execution_count": 13,
   "id": "e4f0edba",
   "metadata": {},
   "outputs": [],
   "source": [
    "grouped = exercises.groupby(\"exercise\")\n",
    "min_max_df = grouped.agg(min_weight=('weight', 'min'), max_weight=('weight', 'max'), min_date=('date', 'min'), max_date=('date', 'max')).reset_index()\n",
    "min_max_df[\"delta\"] = min_max_df[\"max_weight\"] - min_max_df[\"min_weight\"]"
   ]
  },
  {
   "cell_type": "code",
   "execution_count": 14,
   "id": "25276a0d",
   "metadata": {},
   "outputs": [
    {
     "name": "stdout",
     "output_type": "stream",
     "text": [
      "<class 'pandas.core.frame.DataFrame'>\n",
      "RangeIndex: 14 entries, 0 to 13\n",
      "Data columns (total 6 columns):\n",
      " #   Column      Non-Null Count  Dtype         \n",
      "---  ------      --------------  -----         \n",
      " 0   exercise    14 non-null     object        \n",
      " 1   min_weight  14 non-null     float64       \n",
      " 2   max_weight  14 non-null     float64       \n",
      " 3   min_date    14 non-null     datetime64[ns]\n",
      " 4   max_date    14 non-null     datetime64[ns]\n",
      " 5   delta       14 non-null     float64       \n",
      "dtypes: datetime64[ns](2), float64(3), object(1)\n",
      "memory usage: 800.0+ bytes\n"
     ]
    }
   ],
   "source": [
    "min_max_df.info()"
   ]
  },
  {
   "cell_type": "code",
   "execution_count": 15,
   "id": "adb7e0f6",
   "metadata": {},
   "outputs": [
    {
     "data": {
      "text/html": [
       "<div>\n",
       "<style scoped>\n",
       "    .dataframe tbody tr th:only-of-type {\n",
       "        vertical-align: middle;\n",
       "    }\n",
       "\n",
       "    .dataframe tbody tr th {\n",
       "        vertical-align: top;\n",
       "    }\n",
       "\n",
       "    .dataframe thead th {\n",
       "        text-align: right;\n",
       "    }\n",
       "</style>\n",
       "<table border=\"1\" class=\"dataframe\">\n",
       "  <thead>\n",
       "    <tr style=\"text-align: right;\">\n",
       "      <th></th>\n",
       "      <th>exercise</th>\n",
       "      <th>delta_per_month</th>\n",
       "    </tr>\n",
       "  </thead>\n",
       "  <tbody>\n",
       "    <tr>\n",
       "      <th>8</th>\n",
       "      <td>Leg press</td>\n",
       "      <td>0.755556</td>\n",
       "    </tr>\n",
       "    <tr>\n",
       "      <th>10</th>\n",
       "      <td>Pectoral Fly</td>\n",
       "      <td>0.577778</td>\n",
       "    </tr>\n",
       "    <tr>\n",
       "      <th>6</th>\n",
       "      <td>Lateral Raise</td>\n",
       "      <td>0.534884</td>\n",
       "    </tr>\n",
       "    <tr>\n",
       "      <th>7</th>\n",
       "      <td>Leg Extension</td>\n",
       "      <td>0.495556</td>\n",
       "    </tr>\n",
       "    <tr>\n",
       "      <th>1</th>\n",
       "      <td>Converging Chest Press</td>\n",
       "      <td>0.354348</td>\n",
       "    </tr>\n",
       "    <tr>\n",
       "      <th>11</th>\n",
       "      <td>Seated Leg Curl</td>\n",
       "      <td>0.332609</td>\n",
       "    </tr>\n",
       "    <tr>\n",
       "      <th>2</th>\n",
       "      <td>Converging Shoulder Press</td>\n",
       "      <td>0.311111</td>\n",
       "    </tr>\n",
       "    <tr>\n",
       "      <th>5</th>\n",
       "      <td>Lat Pull</td>\n",
       "      <td>0.222222</td>\n",
       "    </tr>\n",
       "    <tr>\n",
       "      <th>13</th>\n",
       "      <td>Triceps Pull</td>\n",
       "      <td>0.202174</td>\n",
       "    </tr>\n",
       "    <tr>\n",
       "      <th>12</th>\n",
       "      <td>Triceps Extension</td>\n",
       "      <td>0.121212</td>\n",
       "    </tr>\n",
       "    <tr>\n",
       "      <th>0</th>\n",
       "      <td>Arm Curl</td>\n",
       "      <td>0.115909</td>\n",
       "    </tr>\n",
       "    <tr>\n",
       "      <th>3</th>\n",
       "      <td>Diverging Seated Row</td>\n",
       "      <td>0.000000</td>\n",
       "    </tr>\n",
       "    <tr>\n",
       "      <th>4</th>\n",
       "      <td>Dual Hand Pull</td>\n",
       "      <td>0.000000</td>\n",
       "    </tr>\n",
       "    <tr>\n",
       "      <th>9</th>\n",
       "      <td>Mini Ripper</td>\n",
       "      <td>0.000000</td>\n",
       "    </tr>\n",
       "  </tbody>\n",
       "</table>\n",
       "</div>"
      ],
      "text/plain": [
       "                     exercise  delta_per_month\n",
       "8                   Leg press         0.755556\n",
       "10               Pectoral Fly         0.577778\n",
       "6               Lateral Raise         0.534884\n",
       "7               Leg Extension         0.495556\n",
       "1      Converging Chest Press         0.354348\n",
       "11            Seated Leg Curl         0.332609\n",
       "2   Converging Shoulder Press         0.311111\n",
       "5                    Lat Pull         0.222222\n",
       "13               Triceps Pull         0.202174\n",
       "12          Triceps Extension         0.121212\n",
       "0                    Arm Curl         0.115909\n",
       "3        Diverging Seated Row         0.000000\n",
       "4              Dual Hand Pull         0.000000\n",
       "9                 Mini Ripper         0.000000"
      ]
     },
     "execution_count": 15,
     "metadata": {},
     "output_type": "execute_result"
    }
   ],
   "source": [
    "# Calculate number of months since from first to last exercise\n",
    "min_max_df[\"delta_months\"] = (min_max_df[\"max_date\"].dt.year - min_max_df[\"min_date\"].dt.year) * 12 + (min_max_df[\"max_date\"].dt.month - min_max_df[\"min_date\"].dt.month)\n",
    "\n",
    "# From weight change, calculate average change per month for exercise\n",
    "min_max_df[\"delta_per_month\"] = min_max_df[\"delta\"] / min_max_df[\"delta_months\"]\n",
    "\n",
    "min_max_df.loc[:, ['exercise', 'delta_per_month']].sort_values(by=['delta_per_month'], ascending=False)"
   ]
  }
 ],
 "metadata": {
  "kernelspec": {
   "display_name": "Python 3 (ipykernel)",
   "language": "python",
   "name": "python3"
  },
  "language_info": {
   "codemirror_mode": {
    "name": "ipython",
    "version": 3
   },
   "file_extension": ".py",
   "mimetype": "text/x-python",
   "name": "python",
   "nbconvert_exporter": "python",
   "pygments_lexer": "ipython3",
   "version": "3.9.7"
  }
 },
 "nbformat": 4,
 "nbformat_minor": 5
}
